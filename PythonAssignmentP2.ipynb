{
 "cells": [
  {
   "cell_type": "markdown",
   "id": "e051a23e",
   "metadata": {},
   "source": [
    "## 2.\tSplit movie.json into 8 smaller JSON files"
   ]
  },
  {
   "cell_type": "code",
   "execution_count": 1,
   "id": "4df19303",
   "metadata": {},
   "outputs": [],
   "source": [
    "import os\n",
    "import json"
   ]
  },
  {
   "cell_type": "markdown",
   "id": "f1b4421d",
   "metadata": {},
   "source": [
    "### Read in Json file"
   ]
  },
  {
   "cell_type": "code",
   "execution_count": 2,
   "id": "e465cd27",
   "metadata": {},
   "outputs": [
    {
     "name": "stdout",
     "output_type": "stream",
     "text": [
      "9995\n"
     ]
    }
   ],
   "source": [
    "movie_list = []\n",
    "with open(os.path.join(r'C:\\Users\\charl\\Downloads\\AntraAzureDataEngineerTraining\\PythonLearning\\AntraPython20220510T004150Z-001',\n",
    "                      'movie.json'), 'r', encoding = 'utf-8') as f:\n",
    "    data = json.load(f)\n",
    "    movies = data['movie']\n",
    "    print(len(movies))"
   ]
  },
  {
   "cell_type": "markdown",
   "id": "1e390f1a",
   "metadata": {},
   "source": [
    "### Set the number of lines to keep in each individual Json File"
   ]
  },
  {
   "cell_type": "code",
   "execution_count": 3,
   "id": "8906f492",
   "metadata": {},
   "outputs": [
    {
     "data": {
      "text/plain": [
       "1250"
      ]
     },
     "execution_count": 3,
     "metadata": {},
     "output_type": "execute_result"
    }
   ],
   "source": [
    "totalSplit = 8\n",
    "size = len(movies) // totalSplit\n",
    "SizeOfSplit = size + 1\n",
    "SizeOfSplit"
   ]
  },
  {
   "cell_type": "markdown",
   "id": "c260ff35",
   "metadata": {},
   "source": [
    "### Perform the splitting"
   ]
  },
  {
   "cell_type": "code",
   "execution_count": 4,
   "id": "baf062ec",
   "metadata": {},
   "outputs": [],
   "source": [
    "for i in range(totalSplit):\n",
    "    json.dump(movies[i * SizeOfSplit : (i + 1) * SizeOfSplit], \n",
    "              open(r'C:\\Users\\charl\\Downloads\\AntraAzureDataEngineerTraining\\PythonLearning\\AntraPython20220510T004150Z-001\\movie_split' +\n",
    "                  str(i + 1) + '.json', 'w', encoding = 'utf-8'), ensure_ascii=False, indent=True)"
   ]
  },
  {
   "cell_type": "code",
   "execution_count": null,
   "id": "9a16bd81",
   "metadata": {},
   "outputs": [],
   "source": []
  }
 ],
 "metadata": {
  "kernelspec": {
   "display_name": "Python 3 (ipykernel)",
   "language": "python",
   "name": "python3"
  },
  "language_info": {
   "codemirror_mode": {
    "name": "ipython",
    "version": 3
   },
   "file_extension": ".py",
   "mimetype": "text/x-python",
   "name": "python",
   "nbconvert_exporter": "python",
   "pygments_lexer": "ipython3",
   "version": "3.7.11"
  }
 },
 "nbformat": 4,
 "nbformat_minor": 5
}
